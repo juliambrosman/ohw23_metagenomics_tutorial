{
 "cells": [
  {
   "cell_type": "markdown",
   "id": "3a8c3cc2-08a9-436d-9d0a-3f83ba613975",
   "metadata": {},
   "source": [
    "# Meta'omics for Ocean Science\n",
    "\n",
    "Ocean Hack Week 2023 Tutorial by Julia M Brown\n",
    "\n",
    "![scales](./tutorial_images/rainbow_satellite_to_microbe.png)  \n",
    "\n",
    "With thanks to the following for content and inspiration:  \n",
    "[Greg Gavelis](https://github.com/ggavelis), [Joe Brown](https://github.com/brwnj), [Maria Pachiadaki](https://github.com/microbiaki), [Ramunas Stepanauskas](https://www.bigelow.org/about/people/rstepanauskas.html), [MerenLab](https://merenlab.org/), [Kaiju Team](https://bioinformatics-centre.github.io/kaiju/), [Cath Mitchell](https://github.com/MarineOpticsLab)\n",
    "\n"
   ]
  },
  {
   "cell_type": "markdown",
   "id": "4a33a281-5db8-4d59-867b-de2d403fcc34",
   "metadata": {},
   "source": [
    "### What is 'omics data?\n",
    "\n",
    "* Data on biological molecules  \n",
    "* 'Meta' refers to collecting and processing samples in bulk \n",
    "* Data often focused on specific size fractions  \n",
    "\n",
    "### How is it generated?\n",
    "\n",
    "* Collection of sample in bulk.  \n",
    "* For planktonic microbes, samples are collected based on a specific size fraction that targets different microbial groups\n",
    "    * e.g. bacteria and archaea, protists, phytoplankton, viruses  \n",
    "* Nucleic acids, proteins or other target molecules extracted and sequenced \n",
    "* For nucleotide data (DNA + RNA), samples often sequenced via Illumina sequencing\n",
    "    * generates short __paired end__ reads \n",
    "    * reads can be characterized directly or used to assemble larger __contiguous sequences__\n",
    "\n",
    "![omics](./tutorial_images/metaXomics_diagram.png)  \n",
    "\n",
    "### It can tell us the who and what of microbial communities\n",
    "\n",
    "**Metagenome (DNA)** : Presence and potential  \n",
    "**Metatranscriptome (RNA)**: Activity  \n",
    "\n",
    "**Taxonomy:**  \n",
    "\n",
    "* What microbes are present -- DNA\n",
    "* Which microbes are active -- RNA\n",
    "\n",
    "**Function:**\n",
    "\n",
    "* What is the metabolic potential? -- DNA\n",
    "* What processes are being carried out? -- RNA\n",
    "\n",
    "### What does it look like?  \n",
    "\n",
    "* fastq - raw sequence read data with quality information included\n",
    "* fasta - sequence data, can be contiguous sequences, open reading frames (i.e. coding sequences) or protein sequences\n",
    "\n"
   ]
  },
  {
   "cell_type": "markdown",
   "id": "1e0fe7e5-b7ae-4c6f-a11c-45c18cfb7ab5",
   "metadata": {},
   "source": [
    "### How can we use raw reads?\n",
    "\n",
    "**Read profiling** is one of the most commonly used processes in 'omics analysis. It is applied to access the relative abundance of taxonomic groups within metagenomic datasets (when using DNA metagenomes) or to estimate the expression of different microbial taxa (when RNA metatranscriptomes are used).\n",
    "\n",
    "In a nutshell short reads are aligned to a genomic reference sequences, which have taxonomic information assigned to them that may be assigned to the reads.\n",
    "\n",
    "![recruitment](./tutorial_images/01-metagenomic-read-recruitment-simple.gif)  \n",
    "(Thank you [MerenLab](https://merenlab.org/) for the animation)"
   ]
  },
  {
   "cell_type": "markdown",
   "id": "86297889-8a11-4b44-940b-a1d50c54107c",
   "metadata": {},
   "source": [
    "# Read classification tools\n",
    "\n",
    "# [Kaiju](https://kaiju.binf.ku.dk/server)\n",
    "![Kaiju](https://kaiju.binf.ku.dk/images/kaiju3_header.gif)\n",
    "\n",
    "**Also: [Kraken2](https://github.com/DerrickWood/kraken2/)**\n",
    "\n",
    "These workflows are wicked fast!\n",
    "\n",
    "### How do they work?\n",
    "\n",
    "**Database**  \n",
    "Database consists of a collection of translated proteins mapped to microbial genomes.\n",
    "\n",
    "<img src=\"./tutorial_images/proteins_to_genomes.png\" alt=\"p2g\" width=\"400\"/>\n",
    "\n",
    "### Short read alignment\n",
    "\n",
    "Reads are translated into protein sequences and aligned to reference protein sequences. Best matches to proteins are then taxonomically assigned based on protein's membership in microbial genomes.\n",
    "\n",
    "![kaiju_diagram](./tutorial_images/short_read_align.png)"
   ]
  },
  {
   "cell_type": "markdown",
   "id": "06b27e46-297a-49c7-825c-35f6d74d5862",
   "metadata": {},
   "source": [
    "## Tools are as good as your reference database\n",
    "\n",
    "Kaiju and other classifiers rely on genome databases that primarily contain genomes from isolated microbes and genomes assembled from metagenomes ('MAGs').\n",
    "\n",
    "**Available Standard Kaiju Databases**  \n",
    "<img src=\"https://upload.wikimedia.org/wikipedia/commons/0/07/US-NLM-NCBI-Logo.svg\" alt=\"ncbi\" width=\"100\"/>\n",
    "\n",
    "**nr**: Non-redundant proteins from bacteria, archaea and viruses  \n",
    "**RefSeq**: Curated bacterial, archaeal and viral genomes from NCBI\n",
    "\n",
    "<img src=\"https://progenomes.embl.de/img/progene_head21.png\" alt=\"progenomes\" width=\"300\"/>  \n",
    "\n",
    "**ProGenomes**: Database of microbial genomes including MAGs from diverse environments\n",
    "\n",
    "**Note:** Kaiju has other available databases that could be useful for your environment or organisms of interest. See their website for more options.  \n",
    "\n",
    "**Database Limitations**: Despite the depth of these collections, they leave stones unturned. Microbial diversity is high and genomes assembled from short reads represent only a fraction of the microbial diversity present in the ocean!\n",
    "\n",
    "## SAGs\n",
    "\n",
    "Single Cell Genomics is another type of 'omics data, it consists of DNA sequence data generated from the DNA present in single cells.  Each set of data from each cell is referred to as a __Single Amplified Genome (i.e. SAG)__. SAGs represent real biological units recovered from samples, and contain genomic information specific to individuals.\n",
    "\n",
    "<img src=\"./tutorial_images/scg_diagram.png\" alt=\"sag\" width=\"600\"/>\n",
    "\n",
    "## GORG-Tropics: A collection of reference genomes from individual cells from the Tropical and Sub-tropical Epipelagic Ocean\n",
    "\n",
    "GORG-Tropics is more representative of global ocean microbes than MAGs or currently available reference genomes*.\n",
    "\n",
    "*I am not sure if GORG-Tropics has been integrated into ProGenomes or not\n",
    "\n",
    "![GORG-Figure2](https://ars.els-cdn.com/content/image/1-s2.0-S0092867419312735-gr2.jpg)  \n",
    "\n",
    "\n",
    "GORG-Tropics is more accurate and sensitive than default databases used for read classification by Kaiju when analyzing marine epipelagic samples. When GORG-Tropics used as a database for reads from similar environments, many more were able to be correctly classified. \n",
    "\n",
    "![GORG-Figure](https://ars.els-cdn.com/content/image/1-s2.0-S0092867419312735-gr6.jpg)  \n",
    "\n",
    "The other advantage of using a tailored database is that it takes up less storage space :)"
   ]
  },
  {
   "cell_type": "markdown",
   "id": "e0a86db9-7534-4fe9-aa48-440bd76afa7a",
   "metadata": {},
   "source": [
    "## TODAY: We will be running Kaiju on a collection of epipelagic metagenomes from the Bermuda Atlantic Time Series using GORG-Tropics_v1 database\n",
    "\n"
   ]
  },
  {
   "cell_type": "code",
   "execution_count": null,
   "id": "81bff890-aeb8-4cd5-b337-26188556ef8e",
   "metadata": {},
   "outputs": [],
   "source": []
  },
  {
   "cell_type": "code",
   "execution_count": null,
   "id": "b17a87ed-ded4-4066-ad2f-0c751544470f",
   "metadata": {},
   "outputs": [],
   "source": []
  },
  {
   "cell_type": "code",
   "execution_count": 4,
   "id": "f096e33c-dea8-4349-a0fc-20e0f268718b",
   "metadata": {
    "tags": []
   },
   "outputs": [],
   "source": [
    "import pandas as pd\n",
    "\n",
    "df = pd.read_csv(\"./data/PRJNA385855_sra_metadata.csv\", sep = \",\")\n",
    "mgoi = df[df['cruise_id'].str.contains('BATS') & df['Depth'].isin(['10m','1m'])][['Run','Collection_date','cruise_id','BioSample','Depth']].sort_values(by = 'Collection_date')\n",
    "\n",
    "# going to save this table to file\n",
    "mgoi.to_csv(\"./data/bats_metagenomes_of_interest.csv\", index=False)\n",
    "\n",
    "with open('data/metagenomes_to_download.txt', 'w') as oh:\n",
    "    for run in mgoi['Run']:\n",
    "        print(run, file = oh)"
   ]
  },
  {
   "cell_type": "code",
   "execution_count": 11,
   "id": "ba3ebb62-3070-4e9b-ab23-70b58e5d543d",
   "metadata": {
    "tags": []
   },
   "outputs": [
    {
     "data": {
      "text/html": [
       "<div>\n",
       "<style scoped>\n",
       "    .dataframe tbody tr th:only-of-type {\n",
       "        vertical-align: middle;\n",
       "    }\n",
       "\n",
       "    .dataframe tbody tr th {\n",
       "        vertical-align: top;\n",
       "    }\n",
       "\n",
       "    .dataframe thead th {\n",
       "        text-align: right;\n",
       "    }\n",
       "</style>\n",
       "<table border=\"1\" class=\"dataframe\">\n",
       "  <thead>\n",
       "    <tr style=\"text-align: right;\">\n",
       "      <th></th>\n",
       "      <th>Run</th>\n",
       "      <th>Collection_date</th>\n",
       "      <th>cruise_id</th>\n",
       "      <th>BioSample</th>\n",
       "      <th>Depth</th>\n",
       "    </tr>\n",
       "  </thead>\n",
       "  <tbody>\n",
       "    <tr>\n",
       "      <th>74</th>\n",
       "      <td>SRR5720233</td>\n",
       "      <td>2003-02-21</td>\n",
       "      <td>BATS173</td>\n",
       "      <td>SAMN07137079</td>\n",
       "      <td>1m</td>\n",
       "    </tr>\n",
       "    <tr>\n",
       "      <th>14</th>\n",
       "      <td>SRR5720238</td>\n",
       "      <td>2003-03-22</td>\n",
       "      <td>BATS174</td>\n",
       "      <td>SAMN07137082</td>\n",
       "      <td>1m</td>\n",
       "    </tr>\n",
       "    <tr>\n",
       "      <th>119</th>\n",
       "      <td>SRR5720327</td>\n",
       "      <td>2003-04-22</td>\n",
       "      <td>BATS175</td>\n",
       "      <td>SAMN07137064</td>\n",
       "      <td>10m</td>\n",
       "    </tr>\n",
       "    <tr>\n",
       "      <th>99</th>\n",
       "      <td>SRR5720283</td>\n",
       "      <td>2003-05-20</td>\n",
       "      <td>BATS176</td>\n",
       "      <td>SAMN07137103</td>\n",
       "      <td>1m</td>\n",
       "    </tr>\n",
       "    <tr>\n",
       "      <th>75</th>\n",
       "      <td>SRR5720235</td>\n",
       "      <td>2003-07-15</td>\n",
       "      <td>BATS178</td>\n",
       "      <td>SAMN07137085</td>\n",
       "      <td>10m</td>\n",
       "    </tr>\n",
       "  </tbody>\n",
       "</table>\n",
       "</div>"
      ],
      "text/plain": [
       "            Run Collection_date cruise_id     BioSample Depth\n",
       "74   SRR5720233      2003-02-21   BATS173  SAMN07137079    1m\n",
       "14   SRR5720238      2003-03-22   BATS174  SAMN07137082    1m\n",
       "119  SRR5720327      2003-04-22   BATS175  SAMN07137064   10m\n",
       "99   SRR5720283      2003-05-20   BATS176  SAMN07137103    1m\n",
       "75   SRR5720235      2003-07-15   BATS178  SAMN07137085   10m"
      ]
     },
     "execution_count": 11,
     "metadata": {},
     "output_type": "execute_result"
    }
   ],
   "source": [
    "mgoi.head()"
   ]
  },
  {
   "cell_type": "code",
   "execution_count": 17,
   "id": "d09aa217-55cf-4f1b-81e8-d668740e060e",
   "metadata": {
    "tags": []
   },
   "outputs": [
    {
     "name": "stdout",
     "output_type": "stream",
     "text": [
      "2023-08-02T16:46:34 fasterq-dump.2.9.6 sys: connection failed while opening file within cryptographic module - mbedtls_ssl_handshake returned -9984 ( X509 - Certificate verification failed, e.g. CRL, CA or signature check failed )\n",
      "2023-08-02T16:46:34 fasterq-dump.2.9.6 sys: mbedtls_ssl_get_verify_result returned 0x4008 (  !! The certificate is not correctly signed by the trusted CA  !! The certificate is signed with an unacceptable hash.  )\n",
      "2023-08-02T16:46:34 fasterq-dump.2.9.6 sys: connection failed while opening file within cryptographic module - ktls_handshake failed while accessing '130.14.29.110' from '172.18.0.2'\n",
      "2023-08-02T16:46:34 fasterq-dump.2.9.6 sys: connection failed while opening file within cryptographic module - Failed to create TLS stream for 'www.ncbi.nlm.nih.gov' (130.14.29.110) from '172.18.0.2'\n",
      "2023-08-02T16:46:34 fasterq-dump.2.9.6 err: invalid accession 'SRR5720233'\n"
     ]
    }
   ],
   "source": []
  },
  {
   "cell_type": "code",
   "execution_count": 16,
   "id": "34d043ee-e8c1-452b-964f-0d7cef9f0421",
   "metadata": {
    "tags": []
   },
   "outputs": [
    {
     "name": "stdout",
     "output_type": "stream",
     "text": [
      "2023-08-02T15:58:46 fastq-dump.2.9.6 sys: connection failed while opening file within cryptographic module - mbedtls_ssl_handshake returned -9984 ( X509 - Certificate verification failed, e.g. CRL, CA or signature check failed )\n",
      "2023-08-02T15:58:46 fastq-dump.2.9.6 sys: mbedtls_ssl_get_verify_result returned 0x4008 (  !! The certificate is not correctly signed by the trusted CA  !! The certificate is signed with an unacceptable hash.  )\n",
      "2023-08-02T15:58:46 fastq-dump.2.9.6 sys: connection failed while opening file within cryptographic module - ktls_handshake failed while accessing '130.14.29.110' from '172.18.0.2'\n",
      "2023-08-02T15:58:46 fastq-dump.2.9.6 sys: connection failed while opening file within cryptographic module - Failed to create TLS stream for 'www.ncbi.nlm.nih.gov' (130.14.29.110) from '172.18.0.2'\n",
      "2023-08-02T15:58:46 fastq-dump.2.9.6 err: item not found while constructing within virtual database module - the path 'SRR5720233' cannot be opened as database or table\n"
     ]
    }
   ],
   "source": [
    "%%bash\n",
    "\n",
    "cd subsampled_metagenomes\n",
    "\n",
    "while read p;do\n",
    "    fastq-dl -a $p --provider sra\n",
    "done < metagenomes_to_download.txt"
   ]
  },
  {
   "cell_type": "code",
   "execution_count": 10,
   "id": "c6ad4635-7f15-445f-8c5c-da2ce325d2bd",
   "metadata": {
    "tags": []
   },
   "outputs": [
    {
     "name": "stderr",
     "output_type": "stream",
     "text": [
      "2023-08-02T15:50:35 fastq-dump.2.9.6 sys: connection failed while opening file within cryptographic module - mbedtls_ssl_handshake returned -9984 ( X509 - Certificate verification failed, e.g. CRL, CA or signature check failed )\n",
      "2023-08-02T15:50:35 fastq-dump.2.9.6 sys: mbedtls_ssl_get_verify_result returned 0x4008 (  !! The certificate is not correctly signed by the trusted CA  !! The certificate is signed with an unacceptable hash.  )\n",
      "2023-08-02T15:50:35 fastq-dump.2.9.6 sys: connection failed while opening file within cryptographic module - ktls_handshake failed while accessing '130.14.29.110' from '172.18.0.2'\n",
      "2023-08-02T15:50:35 fastq-dump.2.9.6 sys: connection failed while opening file within cryptographic module - Failed to create TLS stream for 'www.ncbi.nlm.nih.gov' (130.14.29.110) from '172.18.0.2'\n",
      "2023-08-02T15:50:35 fastq-dump.2.9.6 err: item not found while constructing within virtual database module - the path 'SRR5720233' cannot be opened as database or table\n",
      "2023-08-02T15:50:35 fastq-dump.2.9.6 sys: connection failed while opening file within cryptographic module - mbedtls_ssl_handshake returned -9984 ( X509 - Certificate verification failed, e.g. CRL, CA or signature check failed )\n",
      "2023-08-02T15:50:35 fastq-dump.2.9.6 sys: mbedtls_ssl_get_verify_result returned 0x4008 (  !! The certificate is not correctly signed by the trusted CA  !! The certificate is signed with an unacceptable hash.  )\n",
      "2023-08-02T15:50:35 fastq-dump.2.9.6 sys: connection failed while opening file within cryptographic module - ktls_handshake failed while accessing '130.14.29.110' from '172.18.0.2'\n",
      "2023-08-02T15:50:35 fastq-dump.2.9.6 sys: connection failed while opening file within cryptographic module - Failed to create TLS stream for 'www.ncbi.nlm.nih.gov' (130.14.29.110) from '172.18.0.2'\n",
      "2023-08-02T15:50:35 fastq-dump.2.9.6 err: item not found while constructing within virtual database module - the path 'SRR5720238' cannot be opened as database or table\n",
      "2023-08-02T15:50:35 fastq-dump.2.9.6 sys: connection failed while opening file within cryptographic module - mbedtls_ssl_handshake returned -9984 ( X509 - Certificate verification failed, e.g. CRL, CA or signature check failed )\n",
      "2023-08-02T15:50:35 fastq-dump.2.9.6 sys: mbedtls_ssl_get_verify_result returned 0x4008 (  !! The certificate is not correctly signed by the trusted CA  !! The certificate is signed with an unacceptable hash.  )\n",
      "2023-08-02T15:50:35 fastq-dump.2.9.6 sys: connection failed while opening file within cryptographic module - ktls_handshake failed while accessing '130.14.29.110' from '172.18.0.2'\n",
      "2023-08-02T15:50:35 fastq-dump.2.9.6 sys: connection failed while opening file within cryptographic module - Failed to create TLS stream for 'www.ncbi.nlm.nih.gov' (130.14.29.110) from '172.18.0.2'\n",
      "2023-08-02T15:50:35 fastq-dump.2.9.6 err: item not found while constructing within virtual database module - the path 'SRR5720327' cannot be opened as database or table\n",
      "2023-08-02T15:50:36 fastq-dump.2.9.6 sys: connection failed while opening file within cryptographic module - mbedtls_ssl_handshake returned -9984 ( X509 - Certificate verification failed, e.g. CRL, CA or signature check failed )\n",
      "2023-08-02T15:50:36 fastq-dump.2.9.6 sys: mbedtls_ssl_get_verify_result returned 0x4008 (  !! The certificate is not correctly signed by the trusted CA  !! The certificate is signed with an unacceptable hash.  )\n",
      "2023-08-02T15:50:36 fastq-dump.2.9.6 sys: connection failed while opening file within cryptographic module - ktls_handshake failed while accessing '130.14.29.110' from '172.18.0.2'\n",
      "2023-08-02T15:50:36 fastq-dump.2.9.6 sys: connection failed while opening file within cryptographic module - Failed to create TLS stream for 'www.ncbi.nlm.nih.gov' (130.14.29.110) from '172.18.0.2'\n",
      "2023-08-02T15:50:36 fastq-dump.2.9.6 err: item not found while constructing within virtual database module - the path 'SRR5720283' cannot be opened as database or table\n",
      "2023-08-02T15:50:36 fastq-dump.2.9.6 sys: connection failed while opening file within cryptographic module - mbedtls_ssl_handshake returned -9984 ( X509 - Certificate verification failed, e.g. CRL, CA or signature check failed )\n",
      "2023-08-02T15:50:36 fastq-dump.2.9.6 sys: mbedtls_ssl_get_verify_result returned 0x4008 (  !! The certificate is not correctly signed by the trusted CA  !! The certificate is signed with an unacceptable hash.  )\n",
      "2023-08-02T15:50:36 fastq-dump.2.9.6 sys: connection failed while opening file within cryptographic module - ktls_handshake failed while accessing '130.14.29.110' from '172.18.0.2'\n",
      "2023-08-02T15:50:36 fastq-dump.2.9.6 sys: connection failed while opening file within cryptographic module - Failed to create TLS stream for 'www.ncbi.nlm.nih.gov' (130.14.29.110) from '172.18.0.2'\n",
      "2023-08-02T15:50:36 fastq-dump.2.9.6 err: item not found while constructing within virtual database module - the path 'SRR5720235' cannot be opened as database or table\n",
      "2023-08-02T15:50:36 fastq-dump.2.9.6 sys: connection failed while opening file within cryptographic module - mbedtls_ssl_handshake returned -9984 ( X509 - Certificate verification failed, e.g. CRL, CA or signature check failed )\n",
      "2023-08-02T15:50:36 fastq-dump.2.9.6 sys: mbedtls_ssl_get_verify_result returned 0x4008 (  !! The certificate is not correctly signed by the trusted CA  !! The certificate is signed with an unacceptable hash.  )\n",
      "2023-08-02T15:50:36 fastq-dump.2.9.6 sys: connection failed while opening file within cryptographic module - ktls_handshake failed while accessing '130.14.29.110' from '172.18.0.2'\n",
      "2023-08-02T15:50:36 fastq-dump.2.9.6 sys: connection failed while opening file within cryptographic module - Failed to create TLS stream for 'www.ncbi.nlm.nih.gov' (130.14.29.110) from '172.18.0.2'\n",
      "2023-08-02T15:50:36 fastq-dump.2.9.6 err: item not found while constructing within virtual database module - the path 'SRR5720286' cannot be opened as database or table\n",
      "2023-08-02T15:50:36 fastq-dump.2.9.6 sys: connection failed while opening file within cryptographic module - mbedtls_ssl_handshake returned -9984 ( X509 - Certificate verification failed, e.g. CRL, CA or signature check failed )\n",
      "2023-08-02T15:50:36 fastq-dump.2.9.6 sys: mbedtls_ssl_get_verify_result returned 0x4008 (  !! The certificate is not correctly signed by the trusted CA  !! The certificate is signed with an unacceptable hash.  )\n",
      "2023-08-02T15:50:36 fastq-dump.2.9.6 sys: connection failed while opening file within cryptographic module - ktls_handshake failed while accessing '130.14.29.110' from '172.18.0.2'\n",
      "2023-08-02T15:50:36 fastq-dump.2.9.6 sys: connection failed while opening file within cryptographic module - Failed to create TLS stream for 'www.ncbi.nlm.nih.gov' (130.14.29.110) from '172.18.0.2'\n",
      "2023-08-02T15:50:36 fastq-dump.2.9.6 err: item not found while constructing within virtual database module - the path 'SRR5720332' cannot be opened as database or table\n",
      "2023-08-02T15:50:36 fastq-dump.2.9.6 sys: connection failed while opening file within cryptographic module - mbedtls_ssl_handshake returned -9984 ( X509 - Certificate verification failed, e.g. CRL, CA or signature check failed )\n",
      "2023-08-02T15:50:36 fastq-dump.2.9.6 sys: mbedtls_ssl_get_verify_result returned 0x4008 (  !! The certificate is not correctly signed by the trusted CA  !! The certificate is signed with an unacceptable hash.  )\n",
      "2023-08-02T15:50:36 fastq-dump.2.9.6 sys: connection failed while opening file within cryptographic module - ktls_handshake failed while accessing '130.14.29.110' from '172.18.0.2'\n",
      "2023-08-02T15:50:36 fastq-dump.2.9.6 sys: connection failed while opening file within cryptographic module - Failed to create TLS stream for 'www.ncbi.nlm.nih.gov' (130.14.29.110) from '172.18.0.2'\n",
      "2023-08-02T15:50:36 fastq-dump.2.9.6 err: item not found while constructing within virtual database module - the path 'SRR5720276' cannot be opened as database or table\n",
      "2023-08-02T15:50:36 fastq-dump.2.9.6 sys: connection failed while opening file within cryptographic module - mbedtls_ssl_handshake returned -9984 ( X509 - Certificate verification failed, e.g. CRL, CA or signature check failed )\n",
      "2023-08-02T15:50:36 fastq-dump.2.9.6 sys: mbedtls_ssl_get_verify_result returned 0x4008 (  !! The certificate is not correctly signed by the trusted CA  !! The certificate is signed with an unacceptable hash.  )\n",
      "2023-08-02T15:50:36 fastq-dump.2.9.6 sys: connection failed while opening file within cryptographic module - ktls_handshake failed while accessing '130.14.29.110' from '172.18.0.2'\n",
      "2023-08-02T15:50:36 fastq-dump.2.9.6 sys: connection failed while opening file within cryptographic module - Failed to create TLS stream for 'www.ncbi.nlm.nih.gov' (130.14.29.110) from '172.18.0.2'\n",
      "2023-08-02T15:50:36 fastq-dump.2.9.6 err: item not found while constructing within virtual database module - the path 'SRR5720262' cannot be opened as database or table\n",
      "2023-08-02T15:50:37 fastq-dump.2.9.6 sys: connection failed while opening file within cryptographic module - mbedtls_ssl_handshake returned -9984 ( X509 - Certificate verification failed, e.g. CRL, CA or signature check failed )\n",
      "2023-08-02T15:50:37 fastq-dump.2.9.6 sys: mbedtls_ssl_get_verify_result returned 0x4008 (  !! The certificate is not correctly signed by the trusted CA  !! The certificate is signed with an unacceptable hash.  )\n",
      "2023-08-02T15:50:37 fastq-dump.2.9.6 sys: connection failed while opening file within cryptographic module - ktls_handshake failed while accessing '130.14.29.110' from '172.18.0.2'\n",
      "2023-08-02T15:50:37 fastq-dump.2.9.6 sys: connection failed while opening file within cryptographic module - Failed to create TLS stream for 'www.ncbi.nlm.nih.gov' (130.14.29.110) from '172.18.0.2'\n",
      "2023-08-02T15:50:37 fastq-dump.2.9.6 err: item not found while constructing within virtual database module - the path 'SRR5720338' cannot be opened as database or table\n",
      "2023-08-02T15:50:37 fastq-dump.2.9.6 sys: connection failed while opening file within cryptographic module - mbedtls_ssl_handshake returned -9984 ( X509 - Certificate verification failed, e.g. CRL, CA or signature check failed )\n",
      "2023-08-02T15:50:37 fastq-dump.2.9.6 sys: mbedtls_ssl_get_verify_result returned 0x4008 (  !! The certificate is not correctly signed by the trusted CA  !! The certificate is signed with an unacceptable hash.  )\n",
      "2023-08-02T15:50:37 fastq-dump.2.9.6 sys: connection failed while opening file within cryptographic module - ktls_handshake failed while accessing '130.14.29.110' from '172.18.0.2'\n",
      "2023-08-02T15:50:37 fastq-dump.2.9.6 sys: connection failed while opening file within cryptographic module - Failed to create TLS stream for 'www.ncbi.nlm.nih.gov' (130.14.29.110) from '172.18.0.2'\n",
      "2023-08-02T15:50:37 fastq-dump.2.9.6 err: item not found while constructing within virtual database module - the path 'SRR5720322' cannot be opened as database or table\n",
      "2023-08-02T15:50:37 fastq-dump.2.9.6 sys: connection failed while opening file within cryptographic module - mbedtls_ssl_handshake returned -9984 ( X509 - Certificate verification failed, e.g. CRL, CA or signature check failed )\n",
      "2023-08-02T15:50:37 fastq-dump.2.9.6 sys: mbedtls_ssl_get_verify_result returned 0x4008 (  !! The certificate is not correctly signed by the trusted CA  !! The certificate is signed with an unacceptable hash.  )\n",
      "2023-08-02T15:50:37 fastq-dump.2.9.6 sys: connection failed while opening file within cryptographic module - ktls_handshake failed while accessing '130.14.29.110' from '172.18.0.2'\n",
      "2023-08-02T15:50:37 fastq-dump.2.9.6 sys: connection failed while opening file within cryptographic module - Failed to create TLS stream for 'www.ncbi.nlm.nih.gov' (130.14.29.110) from '172.18.0.2'\n",
      "2023-08-02T15:50:37 fastq-dump.2.9.6 err: item not found while constructing within virtual database module - the path 'SRR5720337' cannot be opened as database or table\n",
      "2023-08-02T15:50:37 fastq-dump.2.9.6 sys: connection failed while opening file within cryptographic module - mbedtls_ssl_handshake returned -9984 ( X509 - Certificate verification failed, e.g. CRL, CA or signature check failed )\n",
      "2023-08-02T15:50:37 fastq-dump.2.9.6 sys: mbedtls_ssl_get_verify_result returned 0x4008 (  !! The certificate is not correctly signed by the trusted CA  !! The certificate is signed with an unacceptable hash.  )\n",
      "2023-08-02T15:50:37 fastq-dump.2.9.6 sys: connection failed while opening file within cryptographic module - ktls_handshake failed while accessing '130.14.29.110' from '172.18.0.2'\n",
      "2023-08-02T15:50:37 fastq-dump.2.9.6 sys: connection failed while opening file within cryptographic module - Failed to create TLS stream for 'www.ncbi.nlm.nih.gov' (130.14.29.110) from '172.18.0.2'\n",
      "2023-08-02T15:50:37 fastq-dump.2.9.6 err: item not found while constructing within virtual database module - the path 'SRR5720256' cannot be opened as database or table\n",
      "2023-08-02T15:50:42 fastq-dump.2.9.6 sys: connection failed while opening file within cryptographic module - mbedtls_ssl_handshake returned -9984 ( X509 - Certificate verification failed, e.g. CRL, CA or signature check failed )\n",
      "2023-08-02T15:50:42 fastq-dump.2.9.6 sys: mbedtls_ssl_get_verify_result returned 0x4008 (  !! The certificate is not correctly signed by the trusted CA  !! The certificate is signed with an unacceptable hash.  )\n",
      "2023-08-02T15:50:42 fastq-dump.2.9.6 sys: connection failed while opening file within cryptographic module - ktls_handshake failed while accessing '130.14.29.110' from '172.18.0.2'\n",
      "2023-08-02T15:50:42 fastq-dump.2.9.6 sys: connection failed while opening file within cryptographic module - Failed to create TLS stream for 'www.ncbi.nlm.nih.gov' (130.14.29.110) from '172.18.0.2'\n",
      "2023-08-02T15:50:42 fastq-dump.2.9.6 err: item not found while constructing within virtual database module - the path 'SRR5720257' cannot be opened as database or table\n",
      "2023-08-02T15:50:42 fastq-dump.2.9.6 sys: connection failed while opening file within cryptographic module - mbedtls_ssl_handshake returned -9984 ( X509 - Certificate verification failed, e.g. CRL, CA or signature check failed )\n",
      "2023-08-02T15:50:42 fastq-dump.2.9.6 sys: mbedtls_ssl_get_verify_result returned 0x4008 (  !! The certificate is not correctly signed by the trusted CA  !! The certificate is signed with an unacceptable hash.  )\n",
      "2023-08-02T15:50:42 fastq-dump.2.9.6 sys: connection failed while opening file within cryptographic module - ktls_handshake failed while accessing '130.14.29.110' from '172.18.0.2'\n",
      "2023-08-02T15:50:42 fastq-dump.2.9.6 sys: connection failed while opening file within cryptographic module - Failed to create TLS stream for 'www.ncbi.nlm.nih.gov' (130.14.29.110) from '172.18.0.2'\n",
      "2023-08-02T15:50:42 fastq-dump.2.9.6 err: item not found while constructing within virtual database module - the path 'SRR5720260' cannot be opened as database or table\n",
      "2023-08-02T15:50:43 fastq-dump.2.9.6 sys: connection failed while opening file within cryptographic module - mbedtls_ssl_handshake returned -9984 ( X509 - Certificate verification failed, e.g. CRL, CA or signature check failed )\n",
      "2023-08-02T15:50:43 fastq-dump.2.9.6 sys: mbedtls_ssl_get_verify_result returned 0x4008 (  !! The certificate is not correctly signed by the trusted CA  !! The certificate is signed with an unacceptable hash.  )\n",
      "2023-08-02T15:50:43 fastq-dump.2.9.6 sys: connection failed while opening file within cryptographic module - ktls_handshake failed while accessing '130.14.29.110' from '172.18.0.2'\n",
      "2023-08-02T15:50:43 fastq-dump.2.9.6 sys: connection failed while opening file within cryptographic module - Failed to create TLS stream for 'www.ncbi.nlm.nih.gov' (130.14.29.110) from '172.18.0.2'\n",
      "2023-08-02T15:50:43 fastq-dump.2.9.6 err: item not found while constructing within virtual database module - the path 'SRR5720321' cannot be opened as database or table\n",
      "2023-08-02T15:50:43 fastq-dump.2.9.6 sys: connection failed while opening file within cryptographic module - mbedtls_ssl_handshake returned -9984 ( X509 - Certificate verification failed, e.g. CRL, CA or signature check failed )\n",
      "2023-08-02T15:50:43 fastq-dump.2.9.6 sys: mbedtls_ssl_get_verify_result returned 0x4008 (  !! The certificate is not correctly signed by the trusted CA  !! The certificate is signed with an unacceptable hash.  )\n",
      "2023-08-02T15:50:43 fastq-dump.2.9.6 sys: connection failed while opening file within cryptographic module - ktls_handshake failed while accessing '130.14.29.110' from '172.18.0.2'\n",
      "2023-08-02T15:50:43 fastq-dump.2.9.6 sys: connection failed while opening file within cryptographic module - Failed to create TLS stream for 'www.ncbi.nlm.nih.gov' (130.14.29.110) from '172.18.0.2'\n",
      "2023-08-02T15:50:43 fastq-dump.2.9.6 err: item not found while constructing within virtual database module - the path 'SRR5720251' cannot be opened as database or table\n",
      "2023-08-02T15:50:43 fastq-dump.2.9.6 sys: connection failed while opening file within cryptographic module - mbedtls_ssl_handshake returned -9984 ( X509 - Certificate verification failed, e.g. CRL, CA or signature check failed )\n",
      "2023-08-02T15:50:43 fastq-dump.2.9.6 sys: mbedtls_ssl_get_verify_result returned 0x4008 (  !! The certificate is not correctly signed by the trusted CA  !! The certificate is signed with an unacceptable hash.  )\n",
      "2023-08-02T15:50:43 fastq-dump.2.9.6 sys: connection failed while opening file within cryptographic module - ktls_handshake failed while accessing '130.14.29.110' from '172.18.0.2'\n",
      "2023-08-02T15:50:43 fastq-dump.2.9.6 sys: connection failed while opening file within cryptographic module - Failed to create TLS stream for 'www.ncbi.nlm.nih.gov' (130.14.29.110) from '172.18.0.2'\n",
      "2023-08-02T15:50:43 fastq-dump.2.9.6 err: item not found while constructing within virtual database module - the path 'SRR5720307' cannot be opened as database or table\n",
      "2023-08-02T15:50:43 fastq-dump.2.9.6 sys: connection failed while opening file within cryptographic module - mbedtls_ssl_handshake returned -9984 ( X509 - Certificate verification failed, e.g. CRL, CA or signature check failed )\n",
      "2023-08-02T15:50:43 fastq-dump.2.9.6 sys: mbedtls_ssl_get_verify_result returned 0x4008 (  !! The certificate is not correctly signed by the trusted CA  !! The certificate is signed with an unacceptable hash.  )\n",
      "2023-08-02T15:50:43 fastq-dump.2.9.6 sys: connection failed while opening file within cryptographic module - ktls_handshake failed while accessing '130.14.29.110' from '172.18.0.2'\n",
      "2023-08-02T15:50:43 fastq-dump.2.9.6 sys: connection failed while opening file within cryptographic module - Failed to create TLS stream for 'www.ncbi.nlm.nih.gov' (130.14.29.110) from '172.18.0.2'\n",
      "2023-08-02T15:50:43 fastq-dump.2.9.6 err: item not found while constructing within virtual database module - the path 'SRR5720278' cannot be opened as database or table\n",
      "2023-08-02T15:50:43 fastq-dump.2.9.6 sys: connection failed while opening file within cryptographic module - mbedtls_ssl_handshake returned -9984 ( X509 - Certificate verification failed, e.g. CRL, CA or signature check failed )\n",
      "2023-08-02T15:50:43 fastq-dump.2.9.6 sys: mbedtls_ssl_get_verify_result returned 0x4008 (  !! The certificate is not correctly signed by the trusted CA  !! The certificate is signed with an unacceptable hash.  )\n",
      "2023-08-02T15:50:43 fastq-dump.2.9.6 sys: connection failed while opening file within cryptographic module - ktls_handshake failed while accessing '130.14.29.110' from '172.18.0.2'\n",
      "2023-08-02T15:50:43 fastq-dump.2.9.6 sys: connection failed while opening file within cryptographic module - Failed to create TLS stream for 'www.ncbi.nlm.nih.gov' (130.14.29.110) from '172.18.0.2'\n",
      "2023-08-02T15:50:43 fastq-dump.2.9.6 err: item not found while constructing within virtual database module - the path 'SRR5720342' cannot be opened as database or table\n",
      "2023-08-02T15:50:43 fastq-dump.2.9.6 sys: connection failed while opening file within cryptographic module - mbedtls_ssl_handshake returned -9984 ( X509 - Certificate verification failed, e.g. CRL, CA or signature check failed )\n",
      "2023-08-02T15:50:43 fastq-dump.2.9.6 sys: mbedtls_ssl_get_verify_result returned 0x4008 (  !! The certificate is not correctly signed by the trusted CA  !! The certificate is signed with an unacceptable hash.  )\n",
      "2023-08-02T15:50:43 fastq-dump.2.9.6 sys: connection failed while opening file within cryptographic module - ktls_handshake failed while accessing '130.14.29.110' from '172.18.0.2'\n",
      "2023-08-02T15:50:43 fastq-dump.2.9.6 sys: connection failed while opening file within cryptographic module - Failed to create TLS stream for 'www.ncbi.nlm.nih.gov' (130.14.29.110) from '172.18.0.2'\n",
      "2023-08-02T15:50:43 fastq-dump.2.9.6 err: item not found while constructing within virtual database module - the path 'SRR6507279' cannot be opened as database or table\n"
     ]
    },
    {
     "ename": "CalledProcessError",
     "evalue": "Command 'b'mkdir data/subsampled_metagenomes/\\n\\ncd data/subsampled_metagenomes\\n\\nwhile read p; do\\n  fastq-dump --split-files --skip-technical -N 0 -X 1000000 --gzip --readids \"$p\"\\ndone < ../metagenomes_to_download.txt\\n'' returned non-zero exit status 3.",
     "output_type": "error",
     "traceback": [
      "\u001b[0;31m---------------------------------------------------------------------------\u001b[0m",
      "\u001b[0;31mCalledProcessError\u001b[0m                        Traceback (most recent call last)",
      "Cell \u001b[0;32mIn[10], line 1\u001b[0m\n\u001b[0;32m----> 1\u001b[0m \u001b[43mget_ipython\u001b[49m\u001b[43m(\u001b[49m\u001b[43m)\u001b[49m\u001b[38;5;241;43m.\u001b[39;49m\u001b[43mrun_cell_magic\u001b[49m\u001b[43m(\u001b[49m\u001b[38;5;124;43m'\u001b[39;49m\u001b[38;5;124;43mbash\u001b[39;49m\u001b[38;5;124;43m'\u001b[39;49m\u001b[43m,\u001b[49m\u001b[43m \u001b[49m\u001b[38;5;124;43m'\u001b[39;49m\u001b[38;5;124;43m'\u001b[39;49m\u001b[43m,\u001b[49m\u001b[43m \u001b[49m\u001b[38;5;124;43m'\u001b[39;49m\u001b[38;5;124;43mmkdir data/subsampled_metagenomes/\u001b[39;49m\u001b[38;5;130;43;01m\\n\u001b[39;49;00m\u001b[38;5;130;43;01m\\n\u001b[39;49;00m\u001b[38;5;124;43mcd data/subsampled_metagenomes\u001b[39;49m\u001b[38;5;130;43;01m\\n\u001b[39;49;00m\u001b[38;5;130;43;01m\\n\u001b[39;49;00m\u001b[38;5;124;43mwhile read p; do\u001b[39;49m\u001b[38;5;130;43;01m\\n\u001b[39;49;00m\u001b[38;5;124;43m  fastq-dump --split-files --skip-technical -N 0 -X 1000000 --gzip --readids \u001b[39;49m\u001b[38;5;124;43m\"\u001b[39;49m\u001b[38;5;124;43m$p\u001b[39;49m\u001b[38;5;124;43m\"\u001b[39;49m\u001b[38;5;130;43;01m\\n\u001b[39;49;00m\u001b[38;5;124;43mdone < ../metagenomes_to_download.txt\u001b[39;49m\u001b[38;5;130;43;01m\\n\u001b[39;49;00m\u001b[38;5;124;43m'\u001b[39;49m\u001b[43m)\u001b[49m\n",
      "File \u001b[0;32m/opt/conda/lib/python3.9/site-packages/IPython/core/interactiveshell.py:2478\u001b[0m, in \u001b[0;36mInteractiveShell.run_cell_magic\u001b[0;34m(self, magic_name, line, cell)\u001b[0m\n\u001b[1;32m   2476\u001b[0m \u001b[38;5;28;01mwith\u001b[39;00m \u001b[38;5;28mself\u001b[39m\u001b[38;5;241m.\u001b[39mbuiltin_trap:\n\u001b[1;32m   2477\u001b[0m     args \u001b[38;5;241m=\u001b[39m (magic_arg_s, cell)\n\u001b[0;32m-> 2478\u001b[0m     result \u001b[38;5;241m=\u001b[39m \u001b[43mfn\u001b[49m\u001b[43m(\u001b[49m\u001b[38;5;241;43m*\u001b[39;49m\u001b[43margs\u001b[49m\u001b[43m,\u001b[49m\u001b[43m \u001b[49m\u001b[38;5;241;43m*\u001b[39;49m\u001b[38;5;241;43m*\u001b[39;49m\u001b[43mkwargs\u001b[49m\u001b[43m)\u001b[49m\n\u001b[1;32m   2480\u001b[0m \u001b[38;5;66;03m# The code below prevents the output from being displayed\u001b[39;00m\n\u001b[1;32m   2481\u001b[0m \u001b[38;5;66;03m# when using magics with decodator @output_can_be_silenced\u001b[39;00m\n\u001b[1;32m   2482\u001b[0m \u001b[38;5;66;03m# when the last Python token in the expression is a ';'.\u001b[39;00m\n\u001b[1;32m   2483\u001b[0m \u001b[38;5;28;01mif\u001b[39;00m \u001b[38;5;28mgetattr\u001b[39m(fn, magic\u001b[38;5;241m.\u001b[39mMAGIC_OUTPUT_CAN_BE_SILENCED, \u001b[38;5;28;01mFalse\u001b[39;00m):\n",
      "File \u001b[0;32m/opt/conda/lib/python3.9/site-packages/IPython/core/magics/script.py:154\u001b[0m, in \u001b[0;36mScriptMagics._make_script_magic.<locals>.named_script_magic\u001b[0;34m(line, cell)\u001b[0m\n\u001b[1;32m    152\u001b[0m \u001b[38;5;28;01melse\u001b[39;00m:\n\u001b[1;32m    153\u001b[0m     line \u001b[38;5;241m=\u001b[39m script\n\u001b[0;32m--> 154\u001b[0m \u001b[38;5;28;01mreturn\u001b[39;00m \u001b[38;5;28;43mself\u001b[39;49m\u001b[38;5;241;43m.\u001b[39;49m\u001b[43mshebang\u001b[49m\u001b[43m(\u001b[49m\u001b[43mline\u001b[49m\u001b[43m,\u001b[49m\u001b[43m \u001b[49m\u001b[43mcell\u001b[49m\u001b[43m)\u001b[49m\n",
      "File \u001b[0;32m/opt/conda/lib/python3.9/site-packages/IPython/core/magics/script.py:314\u001b[0m, in \u001b[0;36mScriptMagics.shebang\u001b[0;34m(self, line, cell)\u001b[0m\n\u001b[1;32m    309\u001b[0m \u001b[38;5;28;01mif\u001b[39;00m args\u001b[38;5;241m.\u001b[39mraise_error \u001b[38;5;129;01mand\u001b[39;00m p\u001b[38;5;241m.\u001b[39mreturncode \u001b[38;5;241m!=\u001b[39m \u001b[38;5;241m0\u001b[39m:\n\u001b[1;32m    310\u001b[0m     \u001b[38;5;66;03m# If we get here and p.returncode is still None, we must have\u001b[39;00m\n\u001b[1;32m    311\u001b[0m     \u001b[38;5;66;03m# killed it but not yet seen its return code. We don't wait for it,\u001b[39;00m\n\u001b[1;32m    312\u001b[0m     \u001b[38;5;66;03m# in case it's stuck in uninterruptible sleep. -9 = SIGKILL\u001b[39;00m\n\u001b[1;32m    313\u001b[0m     rc \u001b[38;5;241m=\u001b[39m p\u001b[38;5;241m.\u001b[39mreturncode \u001b[38;5;129;01mor\u001b[39;00m \u001b[38;5;241m-\u001b[39m\u001b[38;5;241m9\u001b[39m\n\u001b[0;32m--> 314\u001b[0m     \u001b[38;5;28;01mraise\u001b[39;00m CalledProcessError(rc, cell)\n",
      "\u001b[0;31mCalledProcessError\u001b[0m: Command 'b'mkdir data/subsampled_metagenomes/\\n\\ncd data/subsampled_metagenomes\\n\\nwhile read p; do\\n  fastq-dump --split-files --skip-technical -N 0 -X 1000000 --gzip --readids \"$p\"\\ndone < ../metagenomes_to_download.txt\\n'' returned non-zero exit status 3."
     ]
    }
   ],
   "source": [
    "%%bash\n",
    "mkdir data/subsampled_metagenomes/\n",
    "\n",
    "cd data/subsampled_metagenomes\n",
    "\n",
    "while read p; do\n",
    "  fastq-dump --split-files --skip-technical -N 0 -X 1000000 --gzip --readids \"$p\"\n",
    "done < ../metagenomes_to_download.txt"
   ]
  },
  {
   "cell_type": "code",
   "execution_count": 1,
   "id": "c53afba0-1ddb-4cb4-bfa9-00fb92ea6e03",
   "metadata": {},
   "outputs": [
    {
     "name": "stdout",
     "output_type": "stream",
     "text": [
      "/home/jovyan/metagenomics_tutorial\n"
     ]
    }
   ],
   "source": []
  },
  {
   "cell_type": "code",
   "execution_count": 1,
   "id": "7d3996d5-93a1-4a89-adc6-ad6a330e4307",
   "metadata": {
    "tags": []
   },
   "outputs": [
    {
     "name": "stdout",
     "output_type": "stream",
     "text": [
      "Error: Please specify the location of the nodes.dmp file, using the -t option.\n",
      "\n",
      "Kaiju 1.9.2\n",
      "Copyright 2015-2022 Peter Menzel, Anders Krogh\n",
      "License GPLv3+: GNU GPL version 3 or later <http://gnu.org/licenses/gpl.html>\n",
      "\n",
      "Usage:\n",
      "   kaiju -t nodes.dmp -f kaiju_db.fmi -i reads.fastq [-j reads2.fastq]\n",
      "\n",
      "Mandatory arguments:\n",
      "   -t FILENAME   Name of nodes.dmp file\n",
      "   -f FILENAME   Name of database (.fmi) file\n",
      "   -i FILENAME   Name of input file containing reads in FASTA or FASTQ format\n",
      "\n",
      "Optional arguments:\n",
      "   -j FILENAME   Name of second input file for paired-end reads\n",
      "   -o FILENAME   Name of output file. If not specified, output will be printed to STDOUT\n",
      "   -z INT        Number of parallel threads for classification (default: 1)\n",
      "   -a STRING     Run mode, either \"mem\"  or \"greedy\" (default: greedy)\n",
      "   -e INT        Number of mismatches allowed in Greedy mode (default: 3)\n",
      "   -m INT        Minimum match length (default: 11)\n",
      "   -s INT        Minimum match score in Greedy mode (default: 65)\n",
      "   -E FLOAT      Minimum E-value in Greedy mode (default: 0.01)\n",
      "   -x            Enable SEG low complexity filter (enabled by default)\n",
      "   -X            Disable SEG low complexity filter\n",
      "   -p            Input sequences are protein sequences\n",
      "   -v            Enable verbose output\n"
     ]
    }
   ],
   "source": [
    "!kaiju"
   ]
  },
  {
   "cell_type": "code",
   "execution_count": null,
   "id": "8c2278fb-75a8-43e5-9063-9d52faabfd1c",
   "metadata": {},
   "outputs": [],
   "source": []
  }
 ],
 "metadata": {
  "kernelspec": {
   "display_name": "Python 3 (ipykernel)",
   "language": "python",
   "name": "python3"
  },
  "language_info": {
   "codemirror_mode": {
    "name": "ipython",
    "version": 3
   },
   "file_extension": ".py",
   "mimetype": "text/x-python",
   "name": "python",
   "nbconvert_exporter": "python",
   "pygments_lexer": "ipython3",
   "version": "3.9.16"
  }
 },
 "nbformat": 4,
 "nbformat_minor": 5
}
