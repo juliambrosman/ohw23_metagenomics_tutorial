{
 "cells": [
  {
   "cell_type": "code",
   "execution_count": 6,
   "id": "bacb4a93-0ba3-44e5-b86d-06bea577fa3b",
   "metadata": {
    "tags": []
   },
   "outputs": [],
   "source": [
    "import glob\n",
    "import os.path as op\n",
    "import os"
   ]
  },
  {
   "cell_type": "code",
   "execution_count": 4,
   "id": "af77ba7a-83f5-474d-bb7c-e4e677272c59",
   "metadata": {
    "tags": []
   },
   "outputs": [],
   "source": []
  },
  {
   "cell_type": "code",
   "execution_count": 8,
   "id": "a0014f54-9e0c-40c4-b599-315b0f456d01",
   "metadata": {
    "tags": []
   },
   "outputs": [
    {
     "name": "stdout",
     "output_type": "stream",
     "text": [
      "kaiju for ./data/smaller_subsample_set/SRR5720338_100ksub_1.fastq.gz\n",
      "kaiju for ./data/smaller_subsample_set/SRR5720278_100ksub_1.fastq.gz\n",
      "kaiju for ./data/smaller_subsample_set/SRR5720307_100ksub_1.fastq.gz\n",
      "kaiju for ./data/smaller_subsample_set/SRR5720256_100ksub_1.fastq.gz\n",
      "kaiju for ./data/smaller_subsample_set/SRR5720337_100ksub_1.fastq.gz\n",
      "kaiju for ./data/smaller_subsample_set/SRR5720322_100ksub_1.fastq.gz\n",
      "kaiju for ./data/smaller_subsample_set/SRR5720260_100ksub_1.fastq.gz\n",
      "kaiju for ./data/smaller_subsample_set/SRR5720321_100ksub_1.fastq.gz\n",
      "kaiju for ./data/smaller_subsample_set/SRR5720257_100ksub_1.fastq.gz\n",
      "kaiju for ./data/smaller_subsample_set/SRR5720251_100ksub_1.fastq.gz\n",
      "kaiju for ./data/smaller_subsample_set/SRR5720342_100ksub_1.fastq.gz\n"
     ]
    }
   ],
   "source": [
    "fq1s = glob.glob('./data/smaller_subsample_set/*_1.fastq.gz')\n",
    "\n",
    "database_nodes = '../database/nodes.dmp'\n",
    "database_names = '../database/names.dmp'\n",
    "database = '../database/GORG_v1_CREST.fmi'\n",
    "\n",
    "for fq1 in fq1s:\n",
    "\n",
    "    fq2 = fq1.replace('_1.fastq.gz','_2.fastq.gz')\n",
    "    out = op.join('outputs',op.basename(fq1).replace('_1.fastq.gz','_vs_GORGv1_kaiju.out'))\n",
    "    \n",
    "    print('kaiju for {}'.format(fq1))\n",
    "    !kaiju -t {database_nodes} \\\n",
    "    -f {database} \\\n",
    "    -i {fq1} \\\n",
    "    -j {fq2} \\\n",
    "    -o {out}\n",
    "\n",
    "    out_tax = out.replace('.out','_wtaxonomy.out')\n",
    "\n",
    "    !kaiju-addTaxonNames -t {database_nodes} \\\n",
    "    -n {database_names} \\\n",
    "    -i {out} \\\n",
    "    -o {out_tax} \\\n",
    "    -r superkingdom,phylum,class,order,family,genus,species"
   ]
  },
  {
   "cell_type": "code",
   "execution_count": 9,
   "id": "cbfb76c2-bcdc-4a59-bbd5-4af25ce12cdb",
   "metadata": {
    "tags": []
   },
   "outputs": [
    {
     "name": "stdout",
     "output_type": "stream",
     "text": [
      "kaiju for ./data/smaller_10k_subsample_set/SRR5720337_10ksub_1.fastq.gz\n",
      "kaiju for ./data/smaller_10k_subsample_set/SRR5720260_10ksub_1.fastq.gz\n",
      "kaiju for ./data/smaller_10k_subsample_set/SRR5720257_10ksub_1.fastq.gz\n",
      "kaiju for ./data/smaller_10k_subsample_set/SRR5720251_10ksub_1.fastq.gz\n",
      "kaiju for ./data/smaller_10k_subsample_set/SRR5720278_10ksub_1.fastq.gz\n",
      "kaiju for ./data/smaller_10k_subsample_set/SRR5720322_10ksub_1.fastq.gz\n",
      "kaiju for ./data/smaller_10k_subsample_set/SRR5720342_10ksub_1.fastq.gz\n",
      "kaiju for ./data/smaller_10k_subsample_set/SRR5720307_10ksub_1.fastq.gz\n",
      "kaiju for ./data/smaller_10k_subsample_set/SRR5720338_10ksub_1.fastq.gz\n",
      "kaiju for ./data/smaller_10k_subsample_set/SRR5720256_10ksub_1.fastq.gz\n",
      "kaiju for ./data/smaller_10k_subsample_set/SRR5720321_10ksub_1.fastq.gz\n"
     ]
    }
   ],
   "source": [
    "fq1s = glob.glob('./data/smaller_10k_subsample_set/*_1.fastq.gz')\n",
    "\n",
    "database_nodes = '../database/nodes.dmp'\n",
    "database_names = '../database/names.dmp'\n",
    "database = '../database/GORG_v1_CREST.fmi'\n",
    "\n",
    "for fq1 in fq1s:\n",
    "\n",
    "    fq2 = fq1.replace('_1.fastq.gz','_2.fastq.gz')\n",
    "    out = op.join('outputs',op.basename(fq1).replace('_1.fastq.gz','_vs_GORGv1_kaiju.out'))\n",
    "    \n",
    "    print('kaiju for {}'.format(fq1))\n",
    "    !kaiju -t {database_nodes} \\\n",
    "    -f {database} \\\n",
    "    -i {fq1} \\\n",
    "    -j {fq2} \\\n",
    "    -o {out}\n",
    "\n",
    "    out_tax = out.replace('.out','_wtaxonomy.out')\n",
    "\n",
    "    !kaiju-addTaxonNames -t {database_nodes} \\\n",
    "    -n {database_names} \\\n",
    "    -i {out} \\\n",
    "    -o {out_tax} \\\n",
    "    -r superkingdom,phylum,class,order,family,genus,species"
   ]
  },
  {
   "cell_type": "code",
   "execution_count": null,
   "id": "54eb2ecf-7019-458a-8f5f-174119b33e2c",
   "metadata": {},
   "outputs": [],
   "source": []
  }
 ],
 "metadata": {
  "kernelspec": {
   "display_name": "Python 3 (ipykernel)",
   "language": "python",
   "name": "python3"
  },
  "language_info": {
   "codemirror_mode": {
    "name": "ipython",
    "version": 3
   },
   "file_extension": ".py",
   "mimetype": "text/x-python",
   "name": "python",
   "nbconvert_exporter": "python",
   "pygments_lexer": "ipython3",
   "version": "3.9.16"
  }
 },
 "nbformat": 4,
 "nbformat_minor": 5
}
